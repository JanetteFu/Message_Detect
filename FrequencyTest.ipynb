{
  "nbformat": 4,
  "nbformat_minor": 0,
  "metadata": {
    "colab": {
      "provenance": [],
      "authorship_tag": "ABX9TyNOBDQlNQVO6Pe2AIughoXf",
      "include_colab_link": true
    },
    "kernelspec": {
      "name": "python3",
      "display_name": "Python 3"
    }
  },
  "cells": [
    {
      "cell_type": "markdown",
      "metadata": {
        "id": "view-in-github",
        "colab_type": "text"
      },
      "source": [
        "<a href=\"https://colab.research.google.com/github/JanetteFu/Message_Detect/blob/main/FrequencyTest.ipynb\" target=\"_parent\"><img src=\"https://colab.research.google.com/assets/colab-badge.svg\" alt=\"Open In Colab\"/></a>"
      ]
    },
    {
      "cell_type": "code",
      "metadata": {
        "id": "9wuwskCT6hWD"
      },
      "source": [
        "import pandas as pd\n",
        "train_data = pd.read_csv('/content/sample_data/train_clean_data.csv')\n",
        "test_data = pd.read_csv('/content/sample_data/test_clean_data.csv')"
      ],
      "execution_count": null,
      "outputs": []
    },
    {
      "cell_type": "code",
      "metadata": {
        "id": "9ZOtmAgz6x3X"
      },
      "source": [
        "test1 = test_data.loc[test_data['target'] == 1]\n",
        "test0 = test_data.loc[test_data['target'] == 0]"
      ],
      "execution_count": null,
      "outputs": []
    },
    {
      "cell_type": "code",
      "metadata": {
        "id": "vqGVcW2760AX"
      },
      "source": [
        "train1 = train_data.loc[train_data['target'] == 1]\n",
        "train0 = train_data.loc[train_data['target'] == 0]"
      ],
      "execution_count": null,
      "outputs": []
    },
    {
      "cell_type": "code",
      "metadata": {
        "id": "5B0Qto6x7-On",
        "colab": {
          "base_uri": "https://localhost:8080/",
          "height": 204
        },
        "outputId": "9cbab98e-d90f-414e-9033-53ae7e6ab2e9"
      },
      "source": [
        "train0[0:5]"
      ],
      "execution_count": null,
      "outputs": [
        {
          "output_type": "execute_result",
          "data": {
            "text/html": [
              "<div>\n",
              "<style scoped>\n",
              "    .dataframe tbody tr th:only-of-type {\n",
              "        vertical-align: middle;\n",
              "    }\n",
              "\n",
              "    .dataframe tbody tr th {\n",
              "        vertical-align: top;\n",
              "    }\n",
              "\n",
              "    .dataframe thead th {\n",
              "        text-align: right;\n",
              "    }\n",
              "</style>\n",
              "<table border=\"1\" class=\"dataframe\">\n",
              "  <thead>\n",
              "    <tr style=\"text-align: right;\">\n",
              "      <th></th>\n",
              "      <th>Unnamed: 0</th>\n",
              "      <th>text</th>\n",
              "      <th>target</th>\n",
              "      <th>hashtag</th>\n",
              "    </tr>\n",
              "  </thead>\n",
              "  <tbody>\n",
              "    <tr>\n",
              "      <th>0</th>\n",
              "      <td>30519</td>\n",
              "      <td>the console war is not real console choices do...</td>\n",
              "      <td>0</td>\n",
              "      <td>['perplexing']</td>\n",
              "    </tr>\n",
              "    <tr>\n",
              "      <th>1</th>\n",
              "      <td>18241</td>\n",
              "      <td>icymi percent saying w their # jobs # philippi...</td>\n",
              "      <td>0</td>\n",
              "      <td>['jobs', 'philippinesð', 'thailandð', 'singapo...</td>\n",
              "    </tr>\n",
              "    <tr>\n",
              "      <th>2</th>\n",
              "      <td>29769</td>\n",
              "      <td>i am terrific # i am # positive # affirmation</td>\n",
              "      <td>0</td>\n",
              "      <td>['i_am', 'positive', 'affirmation']</td>\n",
              "    </tr>\n",
              "    <tr>\n",
              "      <th>3</th>\n",
              "      <td>7982</td>\n",
              "      <td>update # social # analytics # success # tbt # ...</td>\n",
              "      <td>0</td>\n",
              "      <td>['social', 'analytics', 'success', 'tbt', 'mai...</td>\n",
              "    </tr>\n",
              "    <tr>\n",
              "      <th>4</th>\n",
              "      <td>27395</td>\n",
              "      <td>days off now and a cheeky trip to the euros # ...</td>\n",
              "      <td>0</td>\n",
              "      <td>['euros2016']</td>\n",
              "    </tr>\n",
              "  </tbody>\n",
              "</table>\n",
              "</div>"
            ],
            "text/plain": [
              "   Unnamed: 0  ...                                            hashtag\n",
              "0       30519  ...                                     ['perplexing']\n",
              "1       18241  ...  ['jobs', 'philippinesð', 'thailandð', 'singapo...\n",
              "2       29769  ...                ['i_am', 'positive', 'affirmation']\n",
              "3        7982  ...  ['social', 'analytics', 'success', 'tbt', 'mai...\n",
              "4       27395  ...                                      ['euros2016']\n",
              "\n",
              "[5 rows x 4 columns]"
            ]
          },
          "metadata": {
            "tags": []
          },
          "execution_count": 5
        }
      ]
    },
    {
      "cell_type": "code",
      "metadata": {
        "id": "D5Q9ar92624b"
      },
      "source": [
        "from sklearn.feature_extraction.text import CountVectorizer\n",
        "def get_top_n_words(corpus, n=None):\n",
        "    vec = CountVectorizer().fit(corpus)\n",
        "    bag_of_words = vec.transform(corpus)\n",
        "    sum_words = bag_of_words.sum(axis=0) \n",
        "    words_freq = [(word, sum_words[0, idx]) for word, idx in vec.vocabulary_.items()]\n",
        "    words_freq =sorted(words_freq, key = lambda x: x[1], reverse=True)\n",
        "    return words_freq[:n]"
      ],
      "execution_count": null,
      "outputs": []
    },
    {
      "cell_type": "code",
      "metadata": {
        "id": "44zLhpg27Ki-"
      },
      "source": [
        "common_words1 = get_top_n_words(train1['text'], 150)\n",
        "target1_dic = []\n",
        "for word, freq in common_words1:\n",
        "    target1_dic.append(word)\n",
        "common_words0 = get_top_n_words(train0['text'].values.astype('U'), 150)\n",
        "target0_dic = []\n",
        "for word, freq in common_words0:\n",
        "    target0_dic.append(word)"
      ],
      "execution_count": null,
      "outputs": []
    },
    {
      "cell_type": "code",
      "metadata": {
        "id": "WpWClgaf9WXy"
      },
      "source": [
        "target1_a = target1_dic[0:50]\n",
        "target1_b = target1_dic[50:100]\n",
        "target1_c = target1_dic[100:]\n",
        "target0_a = target0_dic[0:50]\n",
        "target0_b = target0_dic[50:100]\n",
        "target0_c = target0_dic[100:]"
      ],
      "execution_count": null,
      "outputs": []
    },
    {
      "cell_type": "code",
      "metadata": {
        "id": "Vtanok5w8e-Q"
      },
      "source": [
        "t1_score3 = set(target1_a).difference(set(target0_dic))\n",
        "t1_score2_a = set(target1_a).intersection(set(target0_c))\n",
        "t1_score2_b = set(target1_b).difference(set(target0_dic))\n",
        "t1_score1_a = set(target1_a).intersection(set(target0_b))\n",
        "t1_score1_b = set(target1_b).intersection(set(target0_c))\n",
        "t1_score1_c = set(target1_c).difference(set(target0_dic))\n",
        "t0_score3   = set(target0_a).difference(set(target1_dic))\n",
        "t0_score2_a = set(target0_a).intersection(set(target1_c))\n",
        "t0_score2_b = set(target0_b).difference(set(target1_dic))\n",
        "t0_score1_a = set(target0_a).intersection(set(target1_b))\n",
        "t0_score1_b = set(target0_b).intersection(set(target1_c))\n",
        "t0_score1_c = set(target0_c).difference(set(target1_dic))\n"
      ],
      "execution_count": null,
      "outputs": []
    },
    {
      "cell_type": "code",
      "metadata": {
        "id": "4mrjWptQAvKZ"
      },
      "source": [
        "t1_score2 = list(t1_score2_a) + (list(t1_score2_b))\n",
        "t1_score1 = list(t1_score1_a) + (list(t1_score1_b))+(list(t1_score1_c))\n",
        "t0_score2 = list(t0_score2_a) + (list(t0_score2_b))\n",
        "t0_score1 = list(t0_score1_a) + (list(t0_score1_b))+(list(t0_score1_c))"
      ],
      "execution_count": null,
      "outputs": []
    },
    {
      "cell_type": "code",
      "metadata": {
        "id": "fRynpAGZB5Jd",
        "colab": {
          "base_uri": "https://localhost:8080/",
          "height": 884
        },
        "outputId": "c016f675-d869-4bb1-8edb-6895323f1277"
      },
      "source": [
        "list(t1_score1)"
      ],
      "execution_count": null,
      "outputs": [
        {
          "output_type": "execute_result",
          "data": {
            "text/plain": [
              "['who',\n",
              " 'about',\n",
              " 'he',\n",
              " 'by',\n",
              " 'no',\n",
              " 'they',\n",
              " 'how',\n",
              " 'if',\n",
              " 'people',\n",
              " 'being',\n",
              " 'never',\n",
              " 'think',\n",
              " 'feel',\n",
              " 'her',\n",
              " 'been',\n",
              " 'right',\n",
              " 'temple',\n",
              " 'president',\n",
              " 'hatred',\n",
              " 'man',\n",
              " 'sikh',\n",
              " 'calgary',\n",
              " 'condemns',\n",
              " 'act',\n",
              " 'still',\n",
              " 'wso',\n",
              " 'own',\n",
              " 'paladino',\n",
              " 'hispanic',\n",
              " 'thanks',\n",
              " 'suppoers',\n",
              " 'let',\n",
              " 'tampa',\n",
              " 'media',\n",
              " 'these',\n",
              " 'call',\n",
              " 'maga',\n",
              " 'says',\n",
              " 'same',\n",
              " 'police',\n",
              " 'than',\n",
              " 'say',\n",
              " 'year',\n",
              " 'words',\n",
              " 'bigot',\n",
              " 'vandalised',\n",
              " 'she',\n",
              " 'guy',\n",
              " 'brexit',\n",
              " 'latest',\n",
              " 'most']"
            ]
          },
          "metadata": {
            "tags": []
          },
          "execution_count": 80
        }
      ]
    },
    {
      "cell_type": "code",
      "metadata": {
        "id": "pzl34cXi-fvq"
      },
      "source": [
        "dictionary = list(t1_score3) + t1_score2 + t1_score1 + list(t0_score3) + t0_score2 + t0_score1"
      ],
      "execution_count": null,
      "outputs": []
    },
    {
      "cell_type": "code",
      "metadata": {
        "id": "tYBmFYE7Bi7J"
      },
      "source": [
        " score = [-3]*8 + [-2]*29 + [-1]*51 + [3]*10 + [2]*27 + [1]*49"
      ],
      "execution_count": null,
      "outputs": []
    },
    {
      "cell_type": "code",
      "metadata": {
        "id": "DJxzGtlwC2Nz",
        "colab": {
          "base_uri": "https://localhost:8080/",
          "height": 34
        },
        "outputId": "9bacbbe2-e532-4a07-dce7-76c012ebe052"
      },
      "source": [
        "test_data.text[0]\n",
        "test_data.target[0]"
      ],
      "execution_count": null,
      "outputs": [
        {
          "output_type": "execute_result",
          "data": {
            "text/plain": [
              "0"
            ]
          },
          "metadata": {
            "tags": []
          },
          "execution_count": 48
        }
      ]
    },
    {
      "cell_type": "code",
      "metadata": {
        "id": "C-xinuBmCcnP"
      },
      "source": [
        "prediction = []\n",
        "for j in range(0,len(test_data.text)):\n",
        "  tweet_score = 0\n",
        "  for i in range(0,len(dictionary)):\n",
        "    if dictionary[i] in test_data.text[j]:\n",
        "      tweet_score += score[i]\n",
        "  if tweet_score < 0:\n",
        "    prediction.append(1)\n",
        "  else:\n",
        "    prediction.append(0)"
      ],
      "execution_count": null,
      "outputs": []
    },
    {
      "cell_type": "code",
      "metadata": {
        "id": "kgfwCE63DrO4"
      },
      "source": [
        "target = list(test_data.target)"
      ],
      "execution_count": null,
      "outputs": []
    },
    {
      "cell_type": "code",
      "metadata": {
        "id": "xNsi0MDZFjtt",
        "colab": {
          "base_uri": "https://localhost:8080/",
          "height": 34
        },
        "outputId": "3e2d71a8-9760-4ac3-a8e8-ddb49aa99e81"
      },
      "source": [
        "count = 0\n",
        "for i in range(0,len(prediction)):\n",
        "  if target[i] == prediction[i]:\n",
        "    count += 1\n",
        "\n",
        "accuracy = count/len(prediction)\n",
        "print(accuracy)"
      ],
      "execution_count": null,
      "outputs": [
        {
          "output_type": "stream",
          "text": [
            "0.856740694401001\n"
          ],
          "name": "stdout"
        }
      ]
    },
    {
      "cell_type": "code",
      "metadata": {
        "id": "r7tWt-bcD9L9",
        "colab": {
          "base_uri": "https://localhost:8080/",
          "height": 34
        },
        "outputId": "998332f0-ad6f-472f-d6d3-0b5ab1044d78"
      },
      "source": [
        "test_data.text[4]\n",
        "test_data.target[4]"
      ],
      "execution_count": null,
      "outputs": [
        {
          "output_type": "execute_result",
          "data": {
            "text/plain": [
              "0"
            ]
          },
          "metadata": {
            "tags": []
          },
          "execution_count": 76
        }
      ]
    }
  ]
}