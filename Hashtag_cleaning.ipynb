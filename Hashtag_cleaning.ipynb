{
  "nbformat": 4,
  "nbformat_minor": 0,
  "metadata": {
    "colab": {
      "provenance": [],
      "authorship_tag": "ABX9TyPzVtpDlWKykhlNEu+v05yG",
      "include_colab_link": true
    },
    "kernelspec": {
      "name": "python3",
      "display_name": "Python 3"
    }
  },
  "cells": [
    {
      "cell_type": "markdown",
      "metadata": {
        "id": "view-in-github",
        "colab_type": "text"
      },
      "source": [
        "<a href=\"https://colab.research.google.com/github/JanetteFu/Message_Detect/blob/main/Hashtag_cleaning.ipynb\" target=\"_parent\"><img src=\"https://colab.research.google.com/assets/colab-badge.svg\" alt=\"Open In Colab\"/></a>"
      ]
    },
    {
      "cell_type": "code",
      "metadata": {
        "id": "xI4VMnunTyJ8"
      },
      "source": [
        "import pandas as pd\n",
        "df = pd.read_csv('https://raw.githubusercontent.com/AlexaDeGrandmont/CardinAI/master/train.csv')"
      ],
      "execution_count": null,
      "outputs": []
    },
    {
      "cell_type": "code",
      "metadata": {
        "id": "CnjHF_QsV24l"
      },
      "source": [
        "df[\"hashtag\"] = \"\""
      ],
      "execution_count": null,
      "outputs": []
    },
    {
      "cell_type": "code",
      "metadata": {
        "id": "00D3eQxYUGb_"
      },
      "source": [
        "import re\n",
        "hashtag = re.compile(r\"#(\\w+)\")"
      ],
      "execution_count": null,
      "outputs": []
    },
    {
      "cell_type": "code",
      "metadata": {
        "id": "uzRD7RbRUXbi",
        "colab": {
          "base_uri": "https://localhost:8080/",
          "height": 530
        },
        "outputId": "6fb56766-6026-4efc-e53b-f92ee14ed477"
      },
      "source": [
        "!pip install wordninja\n",
        "import wordninja\n",
        "!pip install preprocessor\n",
        "import preprocessor\n",
        "!pip install autocorrect\n",
        "from autocorrect import Speller"
      ],
      "execution_count": null,
      "outputs": [
        {
          "output_type": "stream",
          "text": [
            "Collecting wordninja\n",
            "\u001b[?25l  Downloading https://files.pythonhosted.org/packages/30/15/abe4af50f4be92b60c25e43c1c64d08453b51e46c32981d80b3aebec0260/wordninja-2.0.0.tar.gz (541kB)\n",
            "\r\u001b[K     |▋                               | 10kB 23.5MB/s eta 0:00:01\r\u001b[K     |█▏                              | 20kB 6.6MB/s eta 0:00:01\r\u001b[K     |█▉                              | 30kB 7.6MB/s eta 0:00:01\r\u001b[K     |██▍                             | 40kB 8.2MB/s eta 0:00:01\r\u001b[K     |███                             | 51kB 6.7MB/s eta 0:00:01\r\u001b[K     |███▋                            | 61kB 7.4MB/s eta 0:00:01\r\u001b[K     |████▎                           | 71kB 7.7MB/s eta 0:00:01\r\u001b[K     |████▉                           | 81kB 8.3MB/s eta 0:00:01\r\u001b[K     |█████▌                          | 92kB 7.7MB/s eta 0:00:01\r\u001b[K     |██████                          | 102kB 8.0MB/s eta 0:00:01\r\u001b[K     |██████▋                         | 112kB 8.0MB/s eta 0:00:01\r\u001b[K     |███████▎                        | 122kB 8.0MB/s eta 0:00:01\r\u001b[K     |███████▉                        | 133kB 8.0MB/s eta 0:00:01\r\u001b[K     |████████▌                       | 143kB 8.0MB/s eta 0:00:01\r\u001b[K     |█████████                       | 153kB 8.0MB/s eta 0:00:01\r\u001b[K     |█████████▊                      | 163kB 8.0MB/s eta 0:00:01\r\u001b[K     |██████████▎                     | 174kB 8.0MB/s eta 0:00:01\r\u001b[K     |███████████                     | 184kB 8.0MB/s eta 0:00:01\r\u001b[K     |███████████▌                    | 194kB 8.0MB/s eta 0:00:01\r\u001b[K     |████████████                    | 204kB 8.0MB/s eta 0:00:01\r\u001b[K     |████████████▊                   | 215kB 8.0MB/s eta 0:00:01\r\u001b[K     |█████████████▎                  | 225kB 8.0MB/s eta 0:00:01\r\u001b[K     |██████████████                  | 235kB 8.0MB/s eta 0:00:01\r\u001b[K     |██████████████▌                 | 245kB 8.0MB/s eta 0:00:01\r\u001b[K     |███████████████▏                | 256kB 8.0MB/s eta 0:00:01\r\u001b[K     |███████████████▊                | 266kB 8.0MB/s eta 0:00:01\r\u001b[K     |████████████████▍               | 276kB 8.0MB/s eta 0:00:01\r\u001b[K     |█████████████████               | 286kB 8.0MB/s eta 0:00:01\r\u001b[K     |█████████████████▌              | 296kB 8.0MB/s eta 0:00:01\r\u001b[K     |██████████████████▏             | 307kB 8.0MB/s eta 0:00:01\r\u001b[K     |██████████████████▊             | 317kB 8.0MB/s eta 0:00:01\r\u001b[K     |███████████████████▍            | 327kB 8.0MB/s eta 0:00:01\r\u001b[K     |████████████████████            | 337kB 8.0MB/s eta 0:00:01\r\u001b[K     |████████████████████▋           | 348kB 8.0MB/s eta 0:00:01\r\u001b[K     |█████████████████████▏          | 358kB 8.0MB/s eta 0:00:01\r\u001b[K     |█████████████████████▉          | 368kB 8.0MB/s eta 0:00:01\r\u001b[K     |██████████████████████▍         | 378kB 8.0MB/s eta 0:00:01\r\u001b[K     |███████████████████████         | 389kB 8.0MB/s eta 0:00:01\r\u001b[K     |███████████████████████▋        | 399kB 8.0MB/s eta 0:00:01\r\u001b[K     |████████████████████████▏       | 409kB 8.0MB/s eta 0:00:01\r\u001b[K     |████████████████████████▉       | 419kB 8.0MB/s eta 0:00:01\r\u001b[K     |█████████████████████████▍      | 430kB 8.0MB/s eta 0:00:01\r\u001b[K     |██████████████████████████      | 440kB 8.0MB/s eta 0:00:01\r\u001b[K     |██████████████████████████▋     | 450kB 8.0MB/s eta 0:00:01\r\u001b[K     |███████████████████████████▎    | 460kB 8.0MB/s eta 0:00:01\r\u001b[K     |███████████████████████████▉    | 471kB 8.0MB/s eta 0:00:01\r\u001b[K     |████████████████████████████▍   | 481kB 8.0MB/s eta 0:00:01\r\u001b[K     |█████████████████████████████   | 491kB 8.0MB/s eta 0:00:01\r\u001b[K     |█████████████████████████████▋  | 501kB 8.0MB/s eta 0:00:01\r\u001b[K     |██████████████████████████████▎ | 512kB 8.0MB/s eta 0:00:01\r\u001b[K     |██████████████████████████████▉ | 522kB 8.0MB/s eta 0:00:01\r\u001b[K     |███████████████████████████████▌| 532kB 8.0MB/s eta 0:00:01\r\u001b[K     |████████████████████████████████| 542kB 8.0MB/s \n",
            "\u001b[?25hBuilding wheels for collected packages: wordninja\n",
            "  Building wheel for wordninja (setup.py) ... \u001b[?25l\u001b[?25hdone\n",
            "  Created wheel for wordninja: filename=wordninja-2.0.0-cp36-none-any.whl size=541552 sha256=3617e25411c2866ef504bc68f79a30c70ad4dbbbfbb87e4ef863ef507cb0ec4b\n",
            "  Stored in directory: /root/.cache/pip/wheels/22/46/06/9b6d10ed02c85e93c3bb33ac50e2d368b2586248f192a2e22a\n",
            "Successfully built wordninja\n",
            "Installing collected packages: wordninja\n",
            "Successfully installed wordninja-2.0.0\n",
            "Collecting preprocessor\n",
            "  Downloading https://files.pythonhosted.org/packages/96/ad/d9f4ffb9bb97d1cb5bcb876b7932571d4dbaa3eff1701ad45d367f0ea27b/preprocessor-1.1.3.tar.gz\n",
            "Building wheels for collected packages: preprocessor\n",
            "  Building wheel for preprocessor (setup.py) ... \u001b[?25l\u001b[?25hdone\n",
            "  Created wheel for preprocessor: filename=preprocessor-1.1.3-cp36-none-any.whl size=4478 sha256=e7a7e201b3ee3ec2df4a4d44e3cef7eaf1634e66e8ba76dba98f296fbd77f3d0\n",
            "  Stored in directory: /root/.cache/pip/wheels/98/c1/a2/21fbcfd80d76576bbf148991a66f00730f541f265c7600000f\n",
            "Successfully built preprocessor\n",
            "Installing collected packages: preprocessor\n",
            "Successfully installed preprocessor-1.1.3\n",
            "Collecting autocorrect\n",
            "\u001b[?25l  Downloading https://files.pythonhosted.org/packages/aa/5b/6510d8370201fc96cbb773232c2362079389ed3285b0b1c6a297ef6eadc0/autocorrect-2.0.0.tar.gz (1.8MB)\n",
            "\u001b[K     |████████████████████████████████| 1.8MB 7.6MB/s \n",
            "\u001b[?25hBuilding wheels for collected packages: autocorrect\n",
            "  Building wheel for autocorrect (setup.py) ... \u001b[?25l\u001b[?25hdone\n",
            "  Created wheel for autocorrect: filename=autocorrect-2.0.0-cp36-none-any.whl size=1811641 sha256=01792cbc66ca839d31e9af5613743cf47b80e3181b2aaee0ac550d85cda2061c\n",
            "  Stored in directory: /root/.cache/pip/wheels/0b/06/bc/e66f28d72bed29591eadc79cebb2e7964ad0282804ab233da3\n",
            "Successfully built autocorrect\n",
            "Installing collected packages: autocorrect\n",
            "Successfully installed autocorrect-2.0.0\n"
          ],
          "name": "stdout"
        }
      ]
    },
    {
      "cell_type": "code",
      "metadata": {
        "id": "czV3tn7UUZq8"
      },
      "source": [
        "def autocorrect(tokens, skipwords=set()):\n",
        "  spell = Speller(fast=True)\n",
        "  skipwords = {'lol', 'xbox'}\n",
        "  corrected = []\n",
        "  for token in tokens:\n",
        "    if not token in skipwords:\n",
        "      corrected.append(spell(token))\n",
        "  return corrected"
      ],
      "execution_count": null,
      "outputs": []
    },
    {
      "cell_type": "code",
      "metadata": {
        "id": "2ZEI2Gj1UPr2",
        "colab": {
          "base_uri": "https://localhost:8080/",
          "height": 292
        },
        "outputId": "ba2677a5-b081-4422-a5cc-be4074a57acf"
      },
      "source": [
        "for i in range(10000,12000):\n",
        "    a = hashtag.findall(df['tweet'][i]) \n",
        "    if( (i+1)%200 == 0 ):\n",
        "        print (\"Tweets %d has been processed\" % ( i+1))                                                               \n",
        "    b = autocorrect(a)\n",
        "    temp = []\n",
        "    for j in range(0,len(b)):\n",
        "      token = b[j]\n",
        "      word = wordninja.split(token)\n",
        "      temp.append(word)\n",
        "    df['hashtag'][i] = temp"
      ],
      "execution_count": null,
      "outputs": [
        {
          "output_type": "stream",
          "text": [
            "/usr/local/lib/python3.6/dist-packages/ipykernel_launcher.py:11: SettingWithCopyWarning: \n",
            "A value is trying to be set on a copy of a slice from a DataFrame\n",
            "\n",
            "See the caveats in the documentation: https://pandas.pydata.org/pandas-docs/stable/user_guide/indexing.html#returning-a-view-versus-a-copy\n",
            "  # This is added back by InteractiveShellApp.init_path()\n"
          ],
          "name": "stderr"
        },
        {
          "output_type": "stream",
          "text": [
            "Tweets 10200 has been processed\n",
            "Tweets 10400 has been processed\n",
            "Tweets 10600 has been processed\n",
            "Tweets 10800 has been processed\n",
            "Tweets 11000 has been processed\n",
            "Tweets 11200 has been processed\n",
            "Tweets 11400 has been processed\n",
            "Tweets 11600 has been processed\n",
            "Tweets 11800 has been processed\n",
            "Tweets 12000 has been processed\n"
          ],
          "name": "stdout"
        }
      ]
    },
    {
      "cell_type": "code",
      "metadata": {
        "id": "BcN3YE2AXe2R",
        "colab": {
          "base_uri": "https://localhost:8080/",
          "height": 221
        },
        "outputId": "68538f25-3183-4e1f-a823-4696c6be4673"
      },
      "source": [
        "df['hashtag'][10005:100010]"
      ],
      "execution_count": null,
      "outputs": [
        {
          "output_type": "execute_result",
          "data": {
            "text/plain": [
              "10005                                           [[sunday]]\n",
              "10006          [[utc], [amanda, nunes], [rond, arouse, y]]\n",
              "10007                                                   []\n",
              "10008                         [[a], [sex, and, the, city]]\n",
              "10009    [[hanbury], [building, walls], [public, space,...\n",
              "                               ...                        \n",
              "31957                                                     \n",
              "31958                                                     \n",
              "31959                                                     \n",
              "31960                                                     \n",
              "31961                                                     \n",
              "Name: hashtag, Length: 21957, dtype: object"
            ]
          },
          "metadata": {
            "tags": []
          },
          "execution_count": 43
        }
      ]
    },
    {
      "cell_type": "code",
      "metadata": {
        "id": "i_hDyRtlndwG"
      },
      "source": [
        "df.to_csv('df_hashtag_updated1.csv',encoding='utf-8')"
      ],
      "execution_count": null,
      "outputs": []
    },
    {
      "cell_type": "markdown",
      "metadata": {
        "id": "4EAsFonIrW7o"
      },
      "source": [
        "0 to 12000 finished"
      ]
    },
    {
      "cell_type": "code",
      "metadata": {
        "id": "w2nkPjSknods",
        "colab": {
          "base_uri": "https://localhost:8080/",
          "height": 204
        },
        "outputId": "e33c9dac-632a-4da5-a098-20d6633f204b"
      },
      "source": [
        "df[0:5]"
      ],
      "execution_count": null,
      "outputs": [
        {
          "output_type": "execute_result",
          "data": {
            "text/html": [
              "<div>\n",
              "<style scoped>\n",
              "    .dataframe tbody tr th:only-of-type {\n",
              "        vertical-align: middle;\n",
              "    }\n",
              "\n",
              "    .dataframe tbody tr th {\n",
              "        vertical-align: top;\n",
              "    }\n",
              "\n",
              "    .dataframe thead th {\n",
              "        text-align: right;\n",
              "    }\n",
              "</style>\n",
              "<table border=\"1\" class=\"dataframe\">\n",
              "  <thead>\n",
              "    <tr style=\"text-align: right;\">\n",
              "      <th></th>\n",
              "      <th>id</th>\n",
              "      <th>label</th>\n",
              "      <th>tweet</th>\n",
              "      <th>hashtag</th>\n",
              "    </tr>\n",
              "  </thead>\n",
              "  <tbody>\n",
              "    <tr>\n",
              "      <th>0</th>\n",
              "      <td>1</td>\n",
              "      <td>0</td>\n",
              "      <td>@user when a father is dysfunctional and is s...</td>\n",
              "      <td>[[run]]</td>\n",
              "    </tr>\n",
              "    <tr>\n",
              "      <th>1</th>\n",
              "      <td>2</td>\n",
              "      <td>0</td>\n",
              "      <td>@user @user thanks for #lyft credit i can't us...</td>\n",
              "      <td>[[left], [disappointed], [get, thanked]]</td>\n",
              "    </tr>\n",
              "    <tr>\n",
              "      <th>2</th>\n",
              "      <td>3</td>\n",
              "      <td>0</td>\n",
              "      <td>bihday your majesty</td>\n",
              "      <td>[]</td>\n",
              "    </tr>\n",
              "    <tr>\n",
              "      <th>3</th>\n",
              "      <td>4</td>\n",
              "      <td>0</td>\n",
              "      <td>#model   i love u take with u all the time in ...</td>\n",
              "      <td>[[model]]</td>\n",
              "    </tr>\n",
              "    <tr>\n",
              "      <th>4</th>\n",
              "      <td>5</td>\n",
              "      <td>0</td>\n",
              "      <td>factsguide: society now    #motivation</td>\n",
              "      <td>[[motivation]]</td>\n",
              "    </tr>\n",
              "  </tbody>\n",
              "</table>\n",
              "</div>"
            ],
            "text/plain": [
              "   id  ...                                   hashtag\n",
              "0   1  ...                                   [[run]]\n",
              "1   2  ...  [[left], [disappointed], [get, thanked]]\n",
              "2   3  ...                                        []\n",
              "3   4  ...                                 [[model]]\n",
              "4   5  ...                            [[motivation]]\n",
              "\n",
              "[5 rows x 4 columns]"
            ]
          },
          "metadata": {
            "tags": []
          },
          "execution_count": 41
        }
      ]
    },
    {
      "cell_type": "code",
      "metadata": {
        "id": "QxiBDc6rT4dI"
      },
      "source": [
        "hashtag_column = []\n",
        "for i in range(0,31962):    \n",
        "    hash = hashtag.findall(df['tweet'][i])                                                          \n",
        "    hashtag_column.append(hash)"
      ],
      "execution_count": null,
      "outputs": []
    }
  ]
}