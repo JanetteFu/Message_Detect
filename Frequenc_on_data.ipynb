{
  "nbformat": 4,
  "nbformat_minor": 0,
  "metadata": {
    "colab": {
      "provenance": [],
      "authorship_tag": "ABX9TyN/u59RdYC9IZTyVUk162XC",
      "include_colab_link": true
    },
    "kernelspec": {
      "name": "python3",
      "display_name": "Python 3"
    }
  },
  "cells": [
    {
      "cell_type": "markdown",
      "metadata": {
        "id": "view-in-github",
        "colab_type": "text"
      },
      "source": [
        "<a href=\"https://colab.research.google.com/github/JanetteFu/Message_Detect/blob/main/Frequenc_on_data.ipynb\" target=\"_parent\"><img src=\"https://colab.research.google.com/assets/colab-badge.svg\" alt=\"Open In Colab\"/></a>"
      ]
    },
    {
      "cell_type": "code",
      "metadata": {
        "id": "XlhP3A1xPnT9",
        "colab": {
          "base_uri": "https://localhost:8080/",
          "height": 204
        },
        "outputId": "b56c4bb2-dbef-4e5d-f8f1-597d9b7e135d"
      },
      "source": [
        "import pandas as pd\n",
        "data = pd.read_csv('/content/sample_data/clean_tweets_sentiment140_32k.csv')\n",
        "data.tail()"
      ],
      "execution_count": null,
      "outputs": [
        {
          "output_type": "execute_result",
          "data": {
            "text/html": [
              "<div>\n",
              "<style scoped>\n",
              "    .dataframe tbody tr th:only-of-type {\n",
              "        vertical-align: middle;\n",
              "    }\n",
              "\n",
              "    .dataframe tbody tr th {\n",
              "        vertical-align: top;\n",
              "    }\n",
              "\n",
              "    .dataframe thead th {\n",
              "        text-align: right;\n",
              "    }\n",
              "</style>\n",
              "<table border=\"1\" class=\"dataframe\">\n",
              "  <thead>\n",
              "    <tr style=\"text-align: right;\">\n",
              "      <th></th>\n",
              "      <th>Unnamed: 0</th>\n",
              "      <th>text</th>\n",
              "      <th>hashtag</th>\n",
              "      <th>emojis</th>\n",
              "      <th>sentiment</th>\n",
              "    </tr>\n",
              "  </thead>\n",
              "  <tbody>\n",
              "    <tr>\n",
              "      <th>31995</th>\n",
              "      <td>1599995</td>\n",
              "      <td>just woke up having no school is the best feel...</td>\n",
              "      <td>[]</td>\n",
              "      <td>[]</td>\n",
              "      <td>4</td>\n",
              "    </tr>\n",
              "    <tr>\n",
              "      <th>31996</th>\n",
              "      <td>1599996</td>\n",
              "      <td>thewdb com very cool to hear old walt interviews</td>\n",
              "      <td>[]</td>\n",
              "      <td>[]</td>\n",
              "      <td>4</td>\n",
              "    </tr>\n",
              "    <tr>\n",
              "      <th>31997</th>\n",
              "      <td>1599997</td>\n",
              "      <td>are you ready for your mojo makeover ask me fo...</td>\n",
              "      <td>[]</td>\n",
              "      <td>[]</td>\n",
              "      <td>4</td>\n",
              "    </tr>\n",
              "    <tr>\n",
              "      <th>31998</th>\n",
              "      <td>1599998</td>\n",
              "      <td>happy th birthday to my boo of alll time tupac...</td>\n",
              "      <td>[]</td>\n",
              "      <td>[]</td>\n",
              "      <td>4</td>\n",
              "    </tr>\n",
              "    <tr>\n",
              "      <th>31999</th>\n",
              "      <td>1599999</td>\n",
              "      <td>happy # charity tuesday</td>\n",
              "      <td>['#charitytuesday']</td>\n",
              "      <td>[]</td>\n",
              "      <td>4</td>\n",
              "    </tr>\n",
              "  </tbody>\n",
              "</table>\n",
              "</div>"
            ],
            "text/plain": [
              "       Unnamed: 0  ... sentiment\n",
              "31995     1599995  ...         4\n",
              "31996     1599996  ...         4\n",
              "31997     1599997  ...         4\n",
              "31998     1599998  ...         4\n",
              "31999     1599999  ...         4\n",
              "\n",
              "[5 rows x 5 columns]"
            ]
          },
          "metadata": {
            "tags": []
          },
          "execution_count": 26
        }
      ]
    },
    {
      "cell_type": "code",
      "metadata": {
        "id": "PcxiVcuNST-C"
      },
      "source": [
        "data0 = data.loc[data['sentiment'] == 0]\n",
        "data4 = data.loc[data['sentiment'] == 4]"
      ],
      "execution_count": null,
      "outputs": []
    },
    {
      "cell_type": "code",
      "metadata": {
        "id": "nuIIK0xrS2vT",
        "colab": {
          "base_uri": "https://localhost:8080/",
          "height": 34
        },
        "outputId": "51c90b32-095b-4269-91f9-06cf20fe37b2"
      },
      "source": [
        "data0.shape"
      ],
      "execution_count": null,
      "outputs": [
        {
          "output_type": "execute_result",
          "data": {
            "text/plain": [
              "(16000, 5)"
            ]
          },
          "metadata": {
            "tags": []
          },
          "execution_count": 28
        }
      ]
    },
    {
      "cell_type": "markdown",
      "metadata": {
        "id": "20QqNP8YQlez"
      },
      "source": [
        "shuffle it\n"
      ]
    },
    {
      "cell_type": "code",
      "metadata": {
        "id": "MTg-cvuBSfQb"
      },
      "source": [
        "data0_train = data0[0:14400]\n",
        "data0_test = data0[14400:]\n",
        "data4_train = data4[0:14400]\n",
        "data4_test = data4[14400:]\n",
        "\n",
        "train_frames = [data0_train,data4_train]\n",
        "test_frames = [data0_test,data4_test]"
      ],
      "execution_count": null,
      "outputs": []
    },
    {
      "cell_type": "code",
      "metadata": {
        "id": "bXCezhWTQent",
        "colab": {
          "base_uri": "https://localhost:8080/",
          "height": 204
        },
        "outputId": "a0044924-58b5-4c05-9ca5-c8896bdfc8d5"
      },
      "source": [
        "train = pd.concat(train_frames)\n",
        "test = pd.concat(test_frames)\n",
        "train.head()\n",
        "test.head()"
      ],
      "execution_count": null,
      "outputs": [
        {
          "output_type": "execute_result",
          "data": {
            "text/html": [
              "<div>\n",
              "<style scoped>\n",
              "    .dataframe tbody tr th:only-of-type {\n",
              "        vertical-align: middle;\n",
              "    }\n",
              "\n",
              "    .dataframe tbody tr th {\n",
              "        vertical-align: top;\n",
              "    }\n",
              "\n",
              "    .dataframe thead th {\n",
              "        text-align: right;\n",
              "    }\n",
              "</style>\n",
              "<table border=\"1\" class=\"dataframe\">\n",
              "  <thead>\n",
              "    <tr style=\"text-align: right;\">\n",
              "      <th></th>\n",
              "      <th>Unnamed: 0</th>\n",
              "      <th>text</th>\n",
              "      <th>hashtag</th>\n",
              "      <th>emojis</th>\n",
              "      <th>sentiment</th>\n",
              "    </tr>\n",
              "  </thead>\n",
              "  <tbody>\n",
              "    <tr>\n",
              "      <th>14400</th>\n",
              "      <td>14400</td>\n",
              "      <td>i hear you friend</td>\n",
              "      <td>[]</td>\n",
              "      <td>[]</td>\n",
              "      <td>0</td>\n",
              "    </tr>\n",
              "    <tr>\n",
              "      <th>14401</th>\n",
              "      <td>14401</td>\n",
              "      <td>wow i missed the thai songkran again</td>\n",
              "      <td>[]</td>\n",
              "      <td>[]</td>\n",
              "      <td>0</td>\n",
              "    </tr>\n",
              "    <tr>\n",
              "      <th>14402</th>\n",
              "      <td>14402</td>\n",
              "      <td>we have bad weather today its raining poo ala ...</td>\n",
              "      <td>[]</td>\n",
              "      <td>[]</td>\n",
              "      <td>0</td>\n",
              "    </tr>\n",
              "    <tr>\n",
              "      <th>14403</th>\n",
              "      <td>14403</td>\n",
              "      <td>was american idol goood last night i missed it</td>\n",
              "      <td>[]</td>\n",
              "      <td>[]</td>\n",
              "      <td>0</td>\n",
              "    </tr>\n",
              "    <tr>\n",
              "      <th>14404</th>\n",
              "      <td>14404</td>\n",
              "      <td>i feel kind of down rite now</td>\n",
              "      <td>[]</td>\n",
              "      <td>[]</td>\n",
              "      <td>0</td>\n",
              "    </tr>\n",
              "  </tbody>\n",
              "</table>\n",
              "</div>"
            ],
            "text/plain": [
              "       Unnamed: 0  ... sentiment\n",
              "14400       14400  ...         0\n",
              "14401       14401  ...         0\n",
              "14402       14402  ...         0\n",
              "14403       14403  ...         0\n",
              "14404       14404  ...         0\n",
              "\n",
              "[5 rows x 5 columns]"
            ]
          },
          "metadata": {
            "tags": []
          },
          "execution_count": 30
        }
      ]
    },
    {
      "cell_type": "code",
      "metadata": {
        "id": "qxaMgsxXYU1r",
        "colab": {
          "base_uri": "https://localhost:8080/",
          "height": 34
        },
        "outputId": "693aa10c-98e5-4a27-c4fb-d0ac5fe542ab"
      },
      "source": [
        "print(test['text'].isnull().sum())"
      ],
      "execution_count": null,
      "outputs": [
        {
          "output_type": "stream",
          "text": [
            "4\n"
          ],
          "name": "stdout"
        }
      ]
    },
    {
      "cell_type": "code",
      "metadata": {
        "id": "DjAtcKcMbv9P"
      },
      "source": [
        "test = test.dropna(subset=['text'])"
      ],
      "execution_count": null,
      "outputs": []
    },
    {
      "cell_type": "code",
      "metadata": {
        "id": "-bc3L1nPbzt1",
        "colab": {
          "base_uri": "https://localhost:8080/",
          "height": 34
        },
        "outputId": "eec5cb1f-1c56-49e3-e8b0-9659aa067a8c"
      },
      "source": [
        "test.shape"
      ],
      "execution_count": null,
      "outputs": [
        {
          "output_type": "execute_result",
          "data": {
            "text/plain": [
              "(3196, 5)"
            ]
          },
          "metadata": {
            "tags": []
          },
          "execution_count": 33
        }
      ]
    },
    {
      "cell_type": "code",
      "metadata": {
        "id": "Ro70jdFRT-62"
      },
      "source": [
        "from sklearn.utils import shuffle\n",
        "train = shuffle(train)\n",
        "test = shuffle(test)"
      ],
      "execution_count": null,
      "outputs": []
    },
    {
      "cell_type": "code",
      "metadata": {
        "id": "l-Xvp7U9TVTk"
      },
      "source": [
        "train.to_csv('alexa_train.csv',encoding='utf-8')\n",
        "test.to_csv('alexa_test.csv',encoding='utf-8')"
      ],
      "execution_count": null,
      "outputs": []
    },
    {
      "cell_type": "code",
      "metadata": {
        "id": "oG1YtKVvZTQx"
      },
      "source": [
        "test.to_csv('alexa_test.csv',encoding='utf-8')"
      ],
      "execution_count": null,
      "outputs": []
    },
    {
      "cell_type": "code",
      "metadata": {
        "id": "6qGnVRylP9Le"
      },
      "source": [
        "from sklearn.feature_extraction.text import CountVectorizer\n",
        "def get_top_n_words(corpus, n=None):\n",
        "    vec = CountVectorizer().fit(corpus)\n",
        "    bag_of_words = vec.transform(corpus)\n",
        "    sum_words = bag_of_words.sum(axis=0) \n",
        "    words_freq = [(word, sum_words[0, idx]) for word, idx in vec.vocabulary_.items()]\n",
        "    words_freq =sorted(words_freq, key = lambda x: x[1], reverse=True)\n",
        "    return words_freq[:n]"
      ],
      "execution_count": null,
      "outputs": []
    },
    {
      "cell_type": "code",
      "metadata": {
        "id": "aj87HJMuP_IE"
      },
      "source": [
        "common_words4 = get_top_n_words(data4_train['text'].values.astype('U'), 600)\n",
        "target4_dic = []\n",
        "for word, freq in common_words4:\n",
        "    target4_dic.append(word)\n",
        "common_words0 = get_top_n_words(data0_train['text'].values.astype('U'), 600)\n",
        "target0_dic = []\n",
        "target0_freq = []\n",
        "for word, freq in common_words0:\n",
        "    target0_dic.append(word)\n"
      ],
      "execution_count": null,
      "outputs": []
    },
    {
      "cell_type": "code",
      "metadata": {
        "id": "Fnn5IvncN_d5"
      },
      "source": [
        "target4_dic_2 = []\n",
        "for word, freq in gram_2_4:\n",
        "    target4_dic_2.append(word)"
      ],
      "execution_count": null,
      "outputs": []
    },
    {
      "cell_type": "code",
      "metadata": {
        "id": "rMwiamI5OK_1",
        "colab": {
          "base_uri": "https://localhost:8080/",
          "height": 34
        },
        "outputId": "3123a58d-533e-43ad-d1c9-b6db9edd2873"
      },
      "source": [
        "len(target4_dic_2)"
      ],
      "execution_count": null,
      "outputs": [
        {
          "output_type": "execute_result",
          "data": {
            "text/plain": [
              "100"
            ]
          },
          "metadata": {
            "tags": []
          },
          "execution_count": 63
        }
      ]
    },
    {
      "cell_type": "code",
      "metadata": {
        "id": "v5qcy_6b79Xa"
      },
      "source": [
        "stopwords = set(target4_dic).intersection(set(target0_dic))"
      ],
      "execution_count": null,
      "outputs": []
    },
    {
      "cell_type": "code",
      "metadata": {
        "id": "qxxOjaQQ8DXN"
      },
      "source": [
        "stopwords2 = pd.DataFrame(list(stopwords ))\n",
        "stopwords2.to_csv('stopwords2.csv', index=False)"
      ],
      "execution_count": null,
      "outputs": []
    },
    {
      "cell_type": "code",
      "metadata": {
        "id": "UwhvJcL_QAps"
      },
      "source": [
        "target4_a = target4_dic[0:150]\n",
        "target4_b = target4_dic[150:300]\n",
        "target4_c = target4_dic[300:450]\n",
        "target4_d = target4_dic[450:]\n",
        "target0_a = target0_dic[0:150]\n",
        "target0_b = target0_dic[150:300]\n",
        "target0_c = target0_dic[300:450]\n",
        "target0_d = target0_dic[450:]"
      ],
      "execution_count": null,
      "outputs": []
    },
    {
      "cell_type": "code",
      "metadata": {
        "id": "a4F49DJeQCYl"
      },
      "source": [
        "t1_score4 = set(target4_a).difference(set(target0_dic))\n",
        "t1_score3_a = set(target4_a).intersection(set(target0_d))\n",
        "t1_score2_a = set(target4_a).intersection(set(target0_c))\n",
        "t1_score3_b = set(target4_b).difference(set(target0_dic))\n",
        "t1_score1_a = set(target4_a).intersection(set(target0_b))\n",
        "t1_score2_b = set(target4_b).intersection(set(target0_d))\n",
        "t1_score1_b = set(target4_b).intersection(set(target0_c))\n",
        "t1_score1_c = set(target4_c).intersection(set(target0_d))\n",
        "t1_score2_c = set(target4_c).difference(set(target0_dic))\n",
        "t1_score1_d = set(target4_d).difference(set(target0_dic))\n",
        "t0_score4   = set(target0_a).difference(set(target4_dic))\n",
        "t0_score3_a = set(target0_a).intersection(set(target4_d))\n",
        "t0_score2_a = set(target0_a).intersection(set(target4_c))\n",
        "t0_score3_b = set(target0_b).difference(set(target4_dic))\n",
        "t0_score2_b = set(target0_b).intersection(set(target4_d))\n",
        "t0_score1_a = set(target0_a).intersection(set(target4_b))\n",
        "t0_score1_b = set(target0_b).intersection(set(target4_c))\n",
        "t0_score2_c = set(target0_c).difference(set(target4_dic))\n",
        "t0_score1_c = set(target0_c).intersection(set(target4_d))\n",
        "t0_score1_d = set(target0_d).difference(set(target4_dic))"
      ],
      "execution_count": null,
      "outputs": []
    },
    {
      "cell_type": "code",
      "metadata": {
        "id": "erUycgODQEQG"
      },
      "source": [
        "t1_score3 = list(t1_score3_a) + (list(t1_score3_b))\n",
        "t1_score2 = list(t1_score2_a) + (list(t1_score2_b))+(list(t1_score2_c))\n",
        "t1_score1 = list(t1_score1_a) + (list(t1_score1_b))+(list(t1_score1_c))+(list(t1_score1_d))\n",
        "t0_score3 = list(t0_score3_a) + (list(t0_score3_b))\n",
        "t0_score2 = list(t0_score2_a) + (list(t0_score2_b))+(list(t0_score2_c))\n",
        "t0_score1 = list(t0_score1_a) + (list(t0_score1_b))+(list(t0_score1_c))+(list(t0_score1_d))"
      ],
      "execution_count": null,
      "outputs": []
    },
    {
      "cell_type": "code",
      "metadata": {
        "id": "r_YvV015Xff7",
        "colab": {
          "base_uri": "https://localhost:8080/",
          "height": 34
        },
        "outputId": "c7649d58-65d5-4b27-d82d-b0e806e63d7f"
      },
      "source": [
        "t0_score4"
      ],
      "execution_count": null,
      "outputs": [
        {
          "output_type": "execute_result",
          "data": {
            "text/plain": [
              "{'sad', 'sick'}"
            ]
          },
          "metadata": {
            "tags": []
          },
          "execution_count": 68
        }
      ]
    },
    {
      "cell_type": "code",
      "metadata": {
        "id": "Mw82i2JxVwCw",
        "colab": {
          "base_uri": "https://localhost:8080/",
          "height": 34
        },
        "outputId": "4ac68d8f-e301-4232-d3ba-6625e4a62f3f"
      },
      "source": [
        "len(target4_2)"
      ],
      "execution_count": null,
      "outputs": [
        {
          "output_type": "execute_result",
          "data": {
            "text/plain": [
              "68"
            ]
          },
          "metadata": {
            "tags": []
          },
          "execution_count": 72
        }
      ]
    },
    {
      "cell_type": "code",
      "metadata": {
        "id": "fcfafx4mOhL8"
      },
      "source": [
        "target0_2 = set(target0_dic_2).difference(set(target4_dic_2))\n",
        "target4_2 = set(target4_dic_2).difference(set(target0_dic_2))"
      ],
      "execution_count": null,
      "outputs": []
    },
    {
      "cell_type": "code",
      "metadata": {
        "id": "x7MN2yCPQGjA"
      },
      "source": [
        "dictionary = list(t1_score4) + t1_score3 + t1_score2 + t1_score1 + list(t0_score4) + t0_score3 + t0_score2 + t0_score1\n",
        "dic_2 = list(target4_2) + list(target0_2)\n",
        "score = [3]*12 + [2]*59 + [1]*161 + [-4]*2 + [-3]*16 + [-2]*56 + [-1]*147\n",
        "score_2 = [4]*68 + [-4]*68"
      ],
      "execution_count": null,
      "outputs": []
    },
    {
      "cell_type": "code",
      "metadata": {
        "id": "tMVGkNedYM1P"
      },
      "source": [
        "a = list(test.text)"
      ],
      "execution_count": null,
      "outputs": []
    },
    {
      "cell_type": "code",
      "metadata": {
        "id": "bE9ZBODya-4s",
        "colab": {
          "base_uri": "https://localhost:8080/",
          "height": 34
        },
        "outputId": "41d1b245-56a3-47f7-f932-9d839ad1ba27"
      },
      "source": [
        "len(a)"
      ],
      "execution_count": null,
      "outputs": [
        {
          "output_type": "execute_result",
          "data": {
            "text/plain": [
              "3196"
            ]
          },
          "metadata": {
            "tags": []
          },
          "execution_count": 107
        }
      ]
    },
    {
      "cell_type": "code",
      "metadata": {
        "id": "sc13qHigQ0uO"
      },
      "source": [
        "b = dic_2[0].split()"
      ],
      "execution_count": null,
      "outputs": []
    },
    {
      "cell_type": "code",
      "metadata": {
        "id": "zkTuccdHQ9zi",
        "colab": {
          "base_uri": "https://localhost:8080/",
          "height": 34
        },
        "outputId": "4e9607ce-4c8c-444b-d9f3-76f584b3dddd"
      },
      "source": [
        "b[0] in ['well','done']"
      ],
      "execution_count": null,
      "outputs": [
        {
          "output_type": "execute_result",
          "data": {
            "text/plain": [
              "True"
            ]
          },
          "metadata": {
            "tags": []
          },
          "execution_count": 106
        }
      ]
    },
    {
      "cell_type": "code",
      "metadata": {
        "id": "lOJ_pJ-MQKqR"
      },
      "source": [
        "prediction = []\n",
        "time = 0\n",
        "for j in range(0,len(a)):\n",
        "  tweet_score = 0\n",
        "  temp = a[j].split()\n",
        "  for i in range(0,len(dictionary)):\n",
        "    if dictionary[i] in temp:\n",
        "      tweet_score += score[i]\n",
        "  for k in range(0,len(dic_2)):\n",
        "    b = dic_2[k].split()\n",
        "    if b[0] in temp:\n",
        "      c = temp.index(b[0])+1\n",
        "      if (c+1)<len(temp):\n",
        "        if temp[c] == b[1]:\n",
        "          tweet_score += score_2[k]\n",
        "  if tweet_score < 0:\n",
        "    prediction.append(0)\n",
        "  else:\n",
        "    prediction.append(4)\n",
        "  time += 1"
      ],
      "execution_count": null,
      "outputs": []
    },
    {
      "cell_type": "code",
      "metadata": {
        "id": "a7ce8A9FY5zn",
        "colab": {
          "base_uri": "https://localhost:8080/",
          "height": 34
        },
        "outputId": "71c6e362-d493-41d8-e8bd-67e8ed5f261d"
      },
      "source": [
        "len(prediction)"
      ],
      "execution_count": null,
      "outputs": [
        {
          "output_type": "execute_result",
          "data": {
            "text/plain": [
              "3196"
            ]
          },
          "metadata": {
            "tags": []
          },
          "execution_count": 114
        }
      ]
    },
    {
      "cell_type": "code",
      "metadata": {
        "id": "eBySlp2wQNZE",
        "colab": {
          "base_uri": "https://localhost:8080/",
          "height": 34
        },
        "outputId": "dfc39840-0f21-4429-a061-610ed42ec33c"
      },
      "source": [
        "target = list(test.sentiment)\n",
        "count = 0\n",
        "for i in range(0,len(prediction)):\n",
        "  if target[i] == prediction[i]:\n",
        "    count += 1\n",
        "\n",
        "accuracy = count/len(prediction)\n",
        "print(accuracy)"
      ],
      "execution_count": null,
      "outputs": [
        {
          "output_type": "stream",
          "text": [
            "0.6905506883604505\n"
          ],
          "name": "stdout"
        }
      ]
    },
    {
      "cell_type": "markdown",
      "metadata": {
        "id": "IVE6jxN4Hz3Q"
      },
      "source": [
        "n-grams\n"
      ]
    },
    {
      "cell_type": "code",
      "metadata": {
        "id": "QlTw4_RYHOxs",
        "colab": {
          "base_uri": "https://localhost:8080/",
          "height": 119
        },
        "outputId": "f8ddcef3-cd71-4629-9d8b-034a6317e3eb"
      },
      "source": [
        "import re, nltk\n",
        "nltk.download('stopwords')\n",
        "nltk.download('punkt')\n",
        "nltk.download('wordnet')\n",
        "from nltk.corpus import stopwords\n",
        "from nltk.stem import WordNetLemmatizer\n",
        "stop_words = set(stopwords.words('english'))\n",
        "wordnet_lemmatizer = WordNetLemmatizer()\n",
        "\n",
        "def normalizer(tweet):\n",
        "  tokens = nltk.word_tokenize(tweet)\n",
        "  filtered_result = list(filter(lambda l: l not in stop_words, tokens))\n",
        "  lemmas = [wordnet_lemmatizer.lemmatize(t) for t in filtered_result]\n",
        "  return lemmas\n"
      ],
      "execution_count": null,
      "outputs": [
        {
          "output_type": "stream",
          "text": [
            "[nltk_data] Downloading package stopwords to /root/nltk_data...\n",
            "[nltk_data]   Unzipping corpora/stopwords.zip.\n",
            "[nltk_data] Downloading package punkt to /root/nltk_data...\n",
            "[nltk_data]   Unzipping tokenizers/punkt.zip.\n",
            "[nltk_data] Downloading package wordnet to /root/nltk_data...\n",
            "[nltk_data]   Unzipping corpora/wordnet.zip.\n"
          ],
          "name": "stdout"
        }
      ]
    },
    {
      "cell_type": "code",
      "metadata": {
        "id": "NSI16pjmMkJc",
        "colab": {
          "base_uri": "https://localhost:8080/",
          "height": 204
        },
        "outputId": "b27dfb21-0723-4441-ee61-7c0b6f3eccc0"
      },
      "source": [
        "train.head()"
      ],
      "execution_count": null,
      "outputs": [
        {
          "output_type": "execute_result",
          "data": {
            "text/html": [
              "<div>\n",
              "<style scoped>\n",
              "    .dataframe tbody tr th:only-of-type {\n",
              "        vertical-align: middle;\n",
              "    }\n",
              "\n",
              "    .dataframe tbody tr th {\n",
              "        vertical-align: top;\n",
              "    }\n",
              "\n",
              "    .dataframe thead th {\n",
              "        text-align: right;\n",
              "    }\n",
              "</style>\n",
              "<table border=\"1\" class=\"dataframe\">\n",
              "  <thead>\n",
              "    <tr style=\"text-align: right;\">\n",
              "      <th></th>\n",
              "      <th>Unnamed: 0</th>\n",
              "      <th>text</th>\n",
              "      <th>hashtag</th>\n",
              "      <th>emojis</th>\n",
              "      <th>sentiment</th>\n",
              "    </tr>\n",
              "  </thead>\n",
              "  <tbody>\n",
              "    <tr>\n",
              "      <th>26779</th>\n",
              "      <td>1594779</td>\n",
              "      <td>thanks</td>\n",
              "      <td>[]</td>\n",
              "      <td>[]</td>\n",
              "      <td>4</td>\n",
              "    </tr>\n",
              "    <tr>\n",
              "      <th>17316</th>\n",
              "      <td>1585316</td>\n",
              "      <td>ah v good i am normally at txoko with pe a de ...</td>\n",
              "      <td>[]</td>\n",
              "      <td>[]</td>\n",
              "      <td>4</td>\n",
              "    </tr>\n",
              "    <tr>\n",
              "      <th>18304</th>\n",
              "      <td>1586304</td>\n",
              "      <td>making history that s way cute julia i can not...</td>\n",
              "      <td>[]</td>\n",
              "      <td>[]</td>\n",
              "      <td>4</td>\n",
              "    </tr>\n",
              "    <tr>\n",
              "      <th>8745</th>\n",
              "      <td>8745</td>\n",
              "      <td>man my wrist hurts i hate this</td>\n",
              "      <td>[]</td>\n",
              "      <td>[]</td>\n",
              "      <td>0</td>\n",
              "    </tr>\n",
              "    <tr>\n",
              "      <th>23455</th>\n",
              "      <td>1591455</td>\n",
              "      <td>going to the gym</td>\n",
              "      <td>[]</td>\n",
              "      <td>[]</td>\n",
              "      <td>4</td>\n",
              "    </tr>\n",
              "  </tbody>\n",
              "</table>\n",
              "</div>"
            ],
            "text/plain": [
              "       Unnamed: 0  ... sentiment\n",
              "26779     1594779  ...         4\n",
              "17316     1585316  ...         4\n",
              "18304     1586304  ...         4\n",
              "8745         8745  ...         0\n",
              "23455     1591455  ...         4\n",
              "\n",
              "[5 rows x 5 columns]"
            ]
          },
          "metadata": {
            "tags": []
          },
          "execution_count": 36
        }
      ]
    },
    {
      "cell_type": "code",
      "metadata": {
        "id": "HFwbTt44HRsB",
        "colab": {
          "base_uri": "https://localhost:8080/",
          "height": 292
        },
        "outputId": "78d4693d-a24b-49a2-ea0e-88c7bfb65538"
      },
      "source": [
        "pd.set_option('display.max_colwidth', -1)\n",
        "train['text'] = train.text.apply(str)\n",
        "train['normalized_tweet'] = train.text.apply(normalizer)\n",
        "train[['text', 'normalized_tweet']].head()"
      ],
      "execution_count": null,
      "outputs": [
        {
          "output_type": "stream",
          "text": [
            "/usr/local/lib/python3.6/dist-packages/ipykernel_launcher.py:1: FutureWarning: Passing a negative integer is deprecated in version 1.0 and will not be supported in future version. Instead, use None to not limit the column width.\n",
            "  \"\"\"Entry point for launching an IPython kernel.\n"
          ],
          "name": "stderr"
        },
        {
          "output_type": "execute_result",
          "data": {
            "text/html": [
              "<div>\n",
              "<style scoped>\n",
              "    .dataframe tbody tr th:only-of-type {\n",
              "        vertical-align: middle;\n",
              "    }\n",
              "\n",
              "    .dataframe tbody tr th {\n",
              "        vertical-align: top;\n",
              "    }\n",
              "\n",
              "    .dataframe thead th {\n",
              "        text-align: right;\n",
              "    }\n",
              "</style>\n",
              "<table border=\"1\" class=\"dataframe\">\n",
              "  <thead>\n",
              "    <tr style=\"text-align: right;\">\n",
              "      <th></th>\n",
              "      <th>text</th>\n",
              "      <th>normalized_tweet</th>\n",
              "    </tr>\n",
              "  </thead>\n",
              "  <tbody>\n",
              "    <tr>\n",
              "      <th>26779</th>\n",
              "      <td>thanks</td>\n",
              "      <td>[thanks]</td>\n",
              "    </tr>\n",
              "    <tr>\n",
              "      <th>17316</th>\n",
              "      <td>ah v good i am normally at txoko with pe a de vodka or in oberena i ll be the drunk guy with the camera over my shoulder</td>\n",
              "      <td>[ah, v, good, normally, txoko, pe, de, vodka, oberena, drunk, guy, camera, shoulder]</td>\n",
              "    </tr>\n",
              "    <tr>\n",
              "      <th>18304</th>\n",
              "      <td>making history that s way cute julia i can not wait to meet you at the gigs eee how s everything</td>\n",
              "      <td>[making, history, way, cute, julia, wait, meet, gig, eee, everything]</td>\n",
              "    </tr>\n",
              "    <tr>\n",
              "      <th>8745</th>\n",
              "      <td>man my wrist hurts i hate this</td>\n",
              "      <td>[man, wrist, hurt, hate]</td>\n",
              "    </tr>\n",
              "    <tr>\n",
              "      <th>23455</th>\n",
              "      <td>going to the gym</td>\n",
              "      <td>[going, gym]</td>\n",
              "    </tr>\n",
              "  </tbody>\n",
              "</table>\n",
              "</div>"
            ],
            "text/plain": [
              "                                                                                                                           text                                                                      normalized_tweet\n",
              "26779  thanks                                                                                                                    [thanks]                                                                            \n",
              "17316  ah v good i am normally at txoko with pe a de vodka or in oberena i ll be the drunk guy with the camera over my shoulder  [ah, v, good, normally, txoko, pe, de, vodka, oberena, drunk, guy, camera, shoulder]\n",
              "18304  making history that s way cute julia i can not wait to meet you at the gigs eee how s everything                          [making, history, way, cute, julia, wait, meet, gig, eee, everything]               \n",
              "8745   man my wrist hurts i hate this                                                                                            [man, wrist, hurt, hate]                                                            \n",
              "23455  going to the gym                                                                                                          [going, gym]                                                                        "
            ]
          },
          "metadata": {
            "tags": []
          },
          "execution_count": 37
        }
      ]
    },
    {
      "cell_type": "code",
      "metadata": {
        "id": "_rBCjeELHUM1",
        "colab": {
          "base_uri": "https://localhost:8080/",
          "height": 255
        },
        "outputId": "bbbfb502-ccdf-4e39-b9f0-72efe0747760"
      },
      "source": [
        "from nltk import ngrams\n",
        "def ngrams(input_list):\n",
        "  #onegrams = input_list\n",
        "  bigrams = [' '.join(t) for t in list(zip(input_list, input_list[1:]))]\n",
        "  trigrams = [' '.join(t) for t in list(zip(input_list, input_list[1:], input_list[2:]))]\n",
        "  return bigrams + trigrams\n",
        "\n",
        "train['grams'] = train.normalized_tweet.apply(ngrams)\n",
        "train[['grams']].head()"
      ],
      "execution_count": null,
      "outputs": [
        {
          "output_type": "execute_result",
          "data": {
            "text/html": [
              "<div>\n",
              "<style scoped>\n",
              "    .dataframe tbody tr th:only-of-type {\n",
              "        vertical-align: middle;\n",
              "    }\n",
              "\n",
              "    .dataframe tbody tr th {\n",
              "        vertical-align: top;\n",
              "    }\n",
              "\n",
              "    .dataframe thead th {\n",
              "        text-align: right;\n",
              "    }\n",
              "</style>\n",
              "<table border=\"1\" class=\"dataframe\">\n",
              "  <thead>\n",
              "    <tr style=\"text-align: right;\">\n",
              "      <th></th>\n",
              "      <th>grams</th>\n",
              "    </tr>\n",
              "  </thead>\n",
              "  <tbody>\n",
              "    <tr>\n",
              "      <th>26779</th>\n",
              "      <td>[]</td>\n",
              "    </tr>\n",
              "    <tr>\n",
              "      <th>17316</th>\n",
              "      <td>[ah v, v good, good normally, normally txoko, txoko pe, pe de, de vodka, vodka oberena, oberena drunk, drunk guy, guy camera, camera shoulder, ah v good, v good normally, good normally txoko, normally txoko pe, txoko pe de, pe de vodka, de vodka oberena, vodka oberena drunk, oberena drunk guy, drunk guy camera, guy camera shoulder]</td>\n",
              "    </tr>\n",
              "    <tr>\n",
              "      <th>18304</th>\n",
              "      <td>[making history, history way, way cute, cute julia, julia wait, wait meet, meet gig, gig eee, eee everything, making history way, history way cute, way cute julia, cute julia wait, julia wait meet, wait meet gig, meet gig eee, gig eee everything]</td>\n",
              "    </tr>\n",
              "    <tr>\n",
              "      <th>8745</th>\n",
              "      <td>[man wrist, wrist hurt, hurt hate, man wrist hurt, wrist hurt hate]</td>\n",
              "    </tr>\n",
              "    <tr>\n",
              "      <th>23455</th>\n",
              "      <td>[going gym]</td>\n",
              "    </tr>\n",
              "  </tbody>\n",
              "</table>\n",
              "</div>"
            ],
            "text/plain": [
              "                                                                                                                                                                                                                                                                                                                                               grams\n",
              "26779  []                                                                                                                                                                                                                                                                                                                                           \n",
              "17316  [ah v, v good, good normally, normally txoko, txoko pe, pe de, de vodka, vodka oberena, oberena drunk, drunk guy, guy camera, camera shoulder, ah v good, v good normally, good normally txoko, normally txoko pe, txoko pe de, pe de vodka, de vodka oberena, vodka oberena drunk, oberena drunk guy, drunk guy camera, guy camera shoulder]\n",
              "18304  [making history, history way, way cute, cute julia, julia wait, wait meet, meet gig, gig eee, eee everything, making history way, history way cute, way cute julia, cute julia wait, julia wait meet, wait meet gig, meet gig eee, gig eee everything]                                                                                       \n",
              "8745   [man wrist, wrist hurt, hurt hate, man wrist hurt, wrist hurt hate]                                                                                                                                                                                                                                                                          \n",
              "23455  [going gym]                                                                                                                                                                                                                                                                                                                                  "
            ]
          },
          "metadata": {
            "tags": []
          },
          "execution_count": 38
        }
      ]
    },
    {
      "cell_type": "code",
      "metadata": {
        "id": "pMuKh0ZdHXPb"
      },
      "source": [
        "import collections\n",
        "def count_words(input):\n",
        "  count = collections.Counter()\n",
        "  for row in input:\n",
        "    for word in row:\n",
        "      count[word] += 1\n",
        "  return count"
      ],
      "execution_count": null,
      "outputs": []
    },
    {
      "cell_type": "code",
      "metadata": {
        "id": "-ydbD-JuHYxO"
      },
      "source": [
        "gram_2_0 = train[(train.sentiment == 0)][['grams']].apply(count_words)['grams'].most_common(100)"
      ],
      "execution_count": null,
      "outputs": []
    },
    {
      "cell_type": "code",
      "metadata": {
        "id": "7NFXBa1jN5Pn",
        "colab": {
          "base_uri": "https://localhost:8080/",
          "height": 102
        },
        "outputId": "db9869a4-4d65-4325-c7f0-b734fa8ab8ae"
      },
      "source": [
        "gram_2_0[0:5]"
      ],
      "execution_count": null,
      "outputs": [
        {
          "output_type": "execute_result",
          "data": {
            "text/plain": [
              "[('gon na', 199),\n",
              " ('last night', 194),\n",
              " ('wan na', 165),\n",
              " ('feel like', 117),\n",
              " ('wish could', 113)]"
            ]
          },
          "metadata": {
            "tags": []
          },
          "execution_count": 59
        }
      ]
    },
    {
      "cell_type": "code",
      "metadata": {
        "id": "xmtCs-6QHcXr"
      },
      "source": [
        "gram_2_4 = train[(train.sentiment == 4)][['grams']].apply(count_words)['grams'].most_common(100)"
      ],
      "execution_count": null,
      "outputs": []
    },
    {
      "cell_type": "code",
      "metadata": {
        "id": "z4O-1ZxkNMDx"
      },
      "source": [
        "import numpy as np\n",
        "from scipy.sparse import hstack\n",
        "from sklearn.feature_extraction.text import CountVectorizer\n",
        "count_vectorizer = CountVectorizer(ngram_range=(1,2))"
      ],
      "execution_count": null,
      "outputs": []
    },
    {
      "cell_type": "code",
      "metadata": {
        "id": "_szm78WtHysy"
      },
      "source": [
        "vectorized_data = count_vectorizer.fit_transform(train.text)\n",
        "indexed_data = hstack((np.array(range(0,vectorized_data.shape[0]))[:,None], vectorized_data))"
      ],
      "execution_count": null,
      "outputs": []
    },
    {
      "cell_type": "code",
      "metadata": {
        "id": "lKxrw740NiPr",
        "colab": {
          "base_uri": "https://localhost:8080/",
          "height": 164
        },
        "outputId": "7bb8382c-8439-472a-bd1a-f53e3f94e9c7"
      },
      "source": [
        "indexed_data"
      ],
      "execution_count": null,
      "outputs": [
        {
          "output_type": "error",
          "ename": "TypeError",
          "evalue": "ignored",
          "traceback": [
            "\u001b[0;31m---------------------------------------------------------------------------\u001b[0m",
            "\u001b[0;31mTypeError\u001b[0m                                 Traceback (most recent call last)",
            "\u001b[0;32m<ipython-input-53-3f682bb7237c>\u001b[0m in \u001b[0;36m<module>\u001b[0;34m()\u001b[0m\n\u001b[0;32m----> 1\u001b[0;31m \u001b[0mindexed_data\u001b[0m\u001b[0;34m[\u001b[0m\u001b[0;36m0\u001b[0m\u001b[0;34m:\u001b[0m\u001b[0;36m5\u001b[0m\u001b[0;34m]\u001b[0m\u001b[0;34m[\u001b[0m\u001b[0;36m0\u001b[0m\u001b[0;34m:\u001b[0m\u001b[0;36m5\u001b[0m\u001b[0;34m]\u001b[0m\u001b[0;34m\u001b[0m\u001b[0;34m\u001b[0m\u001b[0m\n\u001b[0m",
            "\u001b[0;31mTypeError\u001b[0m: 'coo_matrix' object is not subscriptable"
          ]
        }
      ]
    },
    {
      "cell_type": "code",
      "metadata": {
        "id": "8PURODiyNTbP"
      },
      "source": [
        "targets = train.sentiment"
      ],
      "execution_count": null,
      "outputs": []
    }
  ]
}