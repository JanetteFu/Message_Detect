{
  "nbformat": 4,
  "nbformat_minor": 0,
  "metadata": {
    "colab": {
      "provenance": [],
      "authorship_tag": "ABX9TyMZgFeZY3NaNO7hkcBIwVYH",
      "include_colab_link": true
    },
    "kernelspec": {
      "name": "python3",
      "display_name": "Python 3"
    }
  },
  "cells": [
    {
      "cell_type": "markdown",
      "metadata": {
        "id": "view-in-github",
        "colab_type": "text"
      },
      "source": [
        "<a href=\"https://colab.research.google.com/github/JanetteFu/Message_Detect/blob/main/TextBlob.ipynb\" target=\"_parent\"><img src=\"https://colab.research.google.com/assets/colab-badge.svg\" alt=\"Open In Colab\"/></a>"
      ]
    },
    {
      "cell_type": "markdown",
      "metadata": {
        "id": "S5ytrpAG32BO"
      },
      "source": [
        "classify with naive Bayes\n"
      ]
    },
    {
      "cell_type": "code",
      "metadata": {
        "id": "EiDhGg6pjC5b"
      },
      "source": [
        "import pandas as pd\n",
        "train_data = pd.read_csv('/content/sample_data/train_clean_data.csv')"
      ],
      "execution_count": null,
      "outputs": []
    },
    {
      "cell_type": "code",
      "metadata": {
        "id": "kZImXrHZyv59"
      },
      "source": [
        "test_data = pd.read_csv('/content/sample_data/test_clean_data.csv')"
      ],
      "execution_count": null,
      "outputs": []
    },
    {
      "cell_type": "code",
      "metadata": {
        "id": "qE3hhufEjm2y",
        "colab": {
          "base_uri": "https://localhost:8080/",
          "height": 204
        },
        "outputId": "18d8a38a-0d59-4bb2-dce7-62e21648fca4"
      },
      "source": [
        "train_data[0:5]"
      ],
      "execution_count": null,
      "outputs": [
        {
          "output_type": "execute_result",
          "data": {
            "text/html": [
              "<div>\n",
              "<style scoped>\n",
              "    .dataframe tbody tr th:only-of-type {\n",
              "        vertical-align: middle;\n",
              "    }\n",
              "\n",
              "    .dataframe tbody tr th {\n",
              "        vertical-align: top;\n",
              "    }\n",
              "\n",
              "    .dataframe thead th {\n",
              "        text-align: right;\n",
              "    }\n",
              "</style>\n",
              "<table border=\"1\" class=\"dataframe\">\n",
              "  <thead>\n",
              "    <tr style=\"text-align: right;\">\n",
              "      <th></th>\n",
              "      <th>Unnamed: 0</th>\n",
              "      <th>text</th>\n",
              "      <th>target</th>\n",
              "      <th>hashtag</th>\n",
              "    </tr>\n",
              "  </thead>\n",
              "  <tbody>\n",
              "    <tr>\n",
              "      <th>0</th>\n",
              "      <td>30519</td>\n",
              "      <td>the console war is not real console choices do...</td>\n",
              "      <td>0</td>\n",
              "      <td>['perplexing']</td>\n",
              "    </tr>\n",
              "    <tr>\n",
              "      <th>1</th>\n",
              "      <td>18241</td>\n",
              "      <td>icymi percent saying w their # jobs # philippi...</td>\n",
              "      <td>0</td>\n",
              "      <td>['jobs', 'philippinesð', 'thailandð', 'singapo...</td>\n",
              "    </tr>\n",
              "    <tr>\n",
              "      <th>2</th>\n",
              "      <td>29769</td>\n",
              "      <td>i am terrific # i am # positive # affirmation</td>\n",
              "      <td>0</td>\n",
              "      <td>['i_am', 'positive', 'affirmation']</td>\n",
              "    </tr>\n",
              "    <tr>\n",
              "      <th>3</th>\n",
              "      <td>7982</td>\n",
              "      <td>update # social # analytics # success # tbt # ...</td>\n",
              "      <td>0</td>\n",
              "      <td>['social', 'analytics', 'success', 'tbt', 'mai...</td>\n",
              "    </tr>\n",
              "    <tr>\n",
              "      <th>4</th>\n",
              "      <td>27395</td>\n",
              "      <td>days off now and a cheeky trip to the euros # ...</td>\n",
              "      <td>0</td>\n",
              "      <td>['euros2016']</td>\n",
              "    </tr>\n",
              "  </tbody>\n",
              "</table>\n",
              "</div>"
            ],
            "text/plain": [
              "   Unnamed: 0  ...                                            hashtag\n",
              "0       30519  ...                                     ['perplexing']\n",
              "1       18241  ...  ['jobs', 'philippinesð', 'thailandð', 'singapo...\n",
              "2       29769  ...                ['i_am', 'positive', 'affirmation']\n",
              "3        7982  ...  ['social', 'analytics', 'success', 'tbt', 'mai...\n",
              "4       27395  ...                                      ['euros2016']\n",
              "\n",
              "[5 rows x 4 columns]"
            ]
          },
          "metadata": {
            "tags": []
          },
          "execution_count": 5
        }
      ]
    },
    {
      "cell_type": "code",
      "metadata": {
        "id": "13iC-2J7uJP_"
      },
      "source": [
        "train1 = train_data.loc[train_data['target'] == 1]\n",
        "train0 = train_data.loc[train_data['target'] == 0]"
      ],
      "execution_count": null,
      "outputs": []
    },
    {
      "cell_type": "code",
      "metadata": {
        "id": "sstP07Kzyzst"
      },
      "source": [
        "test1 = test_data.loc[test_data['target'] == 1]\n",
        "test0 = test_data.loc[test_data['target'] == 0]"
      ],
      "execution_count": null,
      "outputs": []
    },
    {
      "cell_type": "code",
      "metadata": {
        "id": "ueFvRO3mv_l6",
        "colab": {
          "base_uri": "https://localhost:8080/",
          "height": 34
        },
        "outputId": "a27a0143-50c8-4805-f4a0-6e7c64852d30"
      },
      "source": [
        "test1.shape"
      ],
      "execution_count": null,
      "outputs": [
        {
          "output_type": "execute_result",
          "data": {
            "text/plain": [
              "(208, 4)"
            ]
          },
          "metadata": {
            "tags": []
          },
          "execution_count": 67
        }
      ]
    },
    {
      "cell_type": "code",
      "metadata": {
        "id": "PFXO19DCwFWy"
      },
      "source": [
        "text_list_train1 = list(train1.text)\n",
        "text_list_train0 = list(train0.text[0:2034])"
      ],
      "execution_count": null,
      "outputs": []
    },
    {
      "cell_type": "code",
      "metadata": {
        "id": "FOu0YEaGy8ak"
      },
      "source": [
        "text_list_test1 = list(test1.text)\n",
        "text_list_test0 = list(test0.text[0:208])"
      ],
      "execution_count": null,
      "outputs": []
    },
    {
      "cell_type": "code",
      "metadata": {
        "id": "WwsFwZzrwa24"
      },
      "source": [
        "text_list_train1.extend(text_list_train0)"
      ],
      "execution_count": null,
      "outputs": []
    },
    {
      "cell_type": "code",
      "metadata": {
        "id": "qoBWvZHYzCRp"
      },
      "source": [
        "text_list_test1.extend(text_list_test0)"
      ],
      "execution_count": null,
      "outputs": []
    },
    {
      "cell_type": "code",
      "metadata": {
        "id": "zZHKid2zxNKH",
        "colab": {
          "base_uri": "https://localhost:8080/",
          "height": 34
        },
        "outputId": "8a46319a-9217-4b6f-afe7-68fd1fc11812"
      },
      "source": [
        "len(text_list_train1)"
      ],
      "execution_count": null,
      "outputs": [
        {
          "output_type": "execute_result",
          "data": {
            "text/plain": [
              "4068"
            ]
          },
          "metadata": {
            "tags": []
          },
          "execution_count": 51
        }
      ]
    },
    {
      "cell_type": "code",
      "metadata": {
        "id": "FIfI9p36xZxR"
      },
      "source": [
        "label_list_train1 = list(train1.target)\n",
        "label_list_train0 = list(train0.target[0:2034])"
      ],
      "execution_count": null,
      "outputs": []
    },
    {
      "cell_type": "code",
      "metadata": {
        "id": "dpluSsplxhLU",
        "colab": {
          "base_uri": "https://localhost:8080/",
          "height": 34
        },
        "outputId": "43ffbba0-5de8-4a3f-8b73-d813a3c59968"
      },
      "source": [
        "label_list_train1.extend(label_list_train0)\n",
        "len(label_list_train1)"
      ],
      "execution_count": null,
      "outputs": [
        {
          "output_type": "execute_result",
          "data": {
            "text/plain": [
              "4068"
            ]
          },
          "metadata": {
            "tags": []
          },
          "execution_count": 13
        }
      ]
    },
    {
      "cell_type": "code",
      "metadata": {
        "id": "xPuANJNPzHe0",
        "colab": {
          "base_uri": "https://localhost:8080/",
          "height": 34
        },
        "outputId": "c9260837-c612-4606-9751-05bd5fd49021"
      },
      "source": [
        "label_list_test1 = list(test1.target)\n",
        "label_list_test0 = list(test0.target[0:208])\n",
        "label_list_test1.extend(label_list_test0)\n",
        "len(label_list_test1)"
      ],
      "execution_count": null,
      "outputs": [
        {
          "output_type": "execute_result",
          "data": {
            "text/plain": [
              "416"
            ]
          },
          "metadata": {
            "tags": []
          },
          "execution_count": 14
        }
      ]
    },
    {
      "cell_type": "code",
      "metadata": {
        "id": "FKR0L1qbnnfU"
      },
      "source": [
        "train_list = []\n",
        "for i in range(0,4068):\n",
        "  a = (text_list_train1[i],label_list_train1[i])\n",
        "  train_list.append(a)\n",
        "  "
      ],
      "execution_count": null,
      "outputs": []
    },
    {
      "cell_type": "code",
      "metadata": {
        "id": "SsilSv4c0v21",
        "colab": {
          "base_uri": "https://localhost:8080/",
          "height": 173
        },
        "outputId": "8abb9f3f-12a7-4e08-8d62-5dd4296d77eb"
      },
      "source": [
        "train_list[0:5]"
      ],
      "execution_count": null,
      "outputs": [
        {
          "output_type": "execute_result",
          "data": {
            "text/plain": [
              "[('not to sound but has her looks to fall back on unlike # nunes good luck both',\n",
              "  1),\n",
              " ('# zionism is a form of', 1),\n",
              " ('all happy for # lgbtfamily but what i do not get is the incessant but thin veiled against other gay minorities',\n",
              "  1),\n",
              " ('paul beloy is still an issue at varying levels in belgian football', 1),\n",
              " ('this is really telling # microaggressions # race # whiteprivilege # antiblackness',\n",
              "  1)]"
            ]
          },
          "metadata": {
            "tags": []
          },
          "execution_count": 16
        }
      ]
    },
    {
      "cell_type": "code",
      "metadata": {
        "id": "drSTCVcG0u_J"
      },
      "source": [
        "import random\n",
        "random.shuffle(train_list)"
      ],
      "execution_count": null,
      "outputs": []
    },
    {
      "cell_type": "code",
      "metadata": {
        "id": "mJZlNuIW09uS",
        "colab": {
          "base_uri": "https://localhost:8080/",
          "height": 207
        },
        "outputId": "1deb56b5-164b-4b1d-bfa3-ced251539b93"
      },
      "source": [
        "random.shuffle(train_list)\n",
        "train_list[0:5]"
      ],
      "execution_count": null,
      "outputs": [
        {
          "output_type": "execute_result",
          "data": {
            "text/plain": [
              "[('great to meet the best # gin experience in # london # worldginday tomorrow',\n",
              "  0),\n",
              " ('no liberal believes that we are the pay of inclusivity who believes in equality for all anywhere you are a tra',\n",
              "  1),\n",
              " ('i felt that lawrence fishburn was added as the magical negro hollywood stereotypes are made of',\n",
              "  1),\n",
              " ('yesterday s evening walk i thought a lot about the victims of # orlando and even the sky seemed # desperate',\n",
              "  0),\n",
              " ('thinking of all the lovely hats which have gone off to ascot this week enjoy ladies # aroundhampshire',\n",
              "  0)]"
            ]
          },
          "metadata": {
            "tags": []
          },
          "execution_count": 18
        }
      ]
    },
    {
      "cell_type": "code",
      "metadata": {
        "id": "PqwMio1VzQC3"
      },
      "source": [
        "test_list = []\n",
        "for i in range(0,416):\n",
        "  a = (text_list_test1[i],label_list_test1[i])\n",
        "  test_list.append(a)"
      ],
      "execution_count": null,
      "outputs": []
    },
    {
      "cell_type": "code",
      "metadata": {
        "id": "__jzxy1CqPxd",
        "colab": {
          "base_uri": "https://localhost:8080/",
          "height": 190
        },
        "outputId": "6ca0aaae-02ce-46ca-f0e3-89c816d9e590"
      },
      "source": [
        "random.shuffle(test_list)\n",
        "random.shuffle(test_list)\n",
        "test_list[0:5]"
      ],
      "execution_count": null,
      "outputs": [
        {
          "output_type": "execute_result",
          "data": {
            "text/plain": [
              "[('do you want to meet the love of your life look in the mirror byron katie # love # women',\n",
              "  0),\n",
              " ('pre crime in germany of all places did they make them wear badges', 1),\n",
              " ('seeing everyone s cool and # beautifullyobnoxious hair that people have been posting makes me so # dyehappy # gooddyeyoung',\n",
              "  0),\n",
              " ('nigger # lifelessons of a white kid who grew up in the s # blogpost # whitepeople # respect',\n",
              "  1),\n",
              " ('another example of # religiouspsychosis it s an epidemic of brutality ignorance',\n",
              "  0)]"
            ]
          },
          "metadata": {
            "tags": []
          },
          "execution_count": 20
        }
      ]
    },
    {
      "cell_type": "code",
      "metadata": {
        "id": "6LBXwnlzqYPP",
        "colab": {
          "base_uri": "https://localhost:8080/",
          "height": 68
        },
        "outputId": "5cce724d-c282-491f-f98e-78ba68ae83e9"
      },
      "source": [
        "import nltk\n",
        "nltk.download('punkt')"
      ],
      "execution_count": null,
      "outputs": [
        {
          "output_type": "stream",
          "text": [
            "[nltk_data] Downloading package punkt to /root/nltk_data...\n",
            "[nltk_data]   Package punkt is already up-to-date!\n"
          ],
          "name": "stdout"
        },
        {
          "output_type": "execute_result",
          "data": {
            "text/plain": [
              "True"
            ]
          },
          "metadata": {
            "tags": []
          },
          "execution_count": 21
        }
      ]
    },
    {
      "cell_type": "code",
      "metadata": {
        "id": "VCdZVQMNl8Y0",
        "colab": {
          "base_uri": "https://localhost:8080/",
          "height": 34
        },
        "outputId": "84989068-cd12-45f8-bf7a-ae21fc2ebc34"
      },
      "source": [
        "from textblob import TextBlob\n",
        "from textblob.classifiers import NaiveBayesClassifier\n",
        "cl = NaiveBayesClassifier(train_list)\n",
        "blob = TextBlob(test_list[0][0], classifier=cl)\n",
        "blob.classify()"
      ],
      "execution_count": null,
      "outputs": [
        {
          "output_type": "execute_result",
          "data": {
            "text/plain": [
              "0"
            ]
          },
          "metadata": {
            "tags": []
          },
          "execution_count": 24
        }
      ]
    },
    {
      "cell_type": "code",
      "metadata": {
        "id": "3lBzV2qVzrQJ",
        "colab": {
          "base_uri": "https://localhost:8080/",
          "height": 51
        },
        "outputId": "5928f6cc-2d41-46b3-a940-94c81cff7ef1"
      },
      "source": [
        "test_list[0]"
      ],
      "execution_count": null,
      "outputs": [
        {
          "output_type": "execute_result",
          "data": {
            "text/plain": [
              "('do you want to meet the love of your life look in the mirror byron katie # love # women',\n",
              " 0)"
            ]
          },
          "metadata": {
            "tags": []
          },
          "execution_count": 23
        }
      ]
    },
    {
      "cell_type": "code",
      "metadata": {
        "id": "t-BRQPdTtMV-",
        "colab": {
          "base_uri": "https://localhost:8080/",
          "height": 34
        },
        "outputId": "725ced68-4533-4c4d-b221-9e0894c987ad"
      },
      "source": [
        "cl.accuracy(test_list)"
      ],
      "execution_count": null,
      "outputs": [
        {
          "output_type": "execute_result",
          "data": {
            "text/plain": [
              "0.8990384615384616"
            ]
          },
          "metadata": {
            "tags": []
          },
          "execution_count": 25
        }
      ]
    }
  ]
}